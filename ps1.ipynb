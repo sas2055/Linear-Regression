{
 "cells": [
  {
   "cell_type": "code",
   "execution_count": 1,
   "id": "c9fd1686",
   "metadata": {},
   "outputs": [],
   "source": [
    "import numpy as np\n",
    "import pandas as pd\n",
    "import matplotlib.pyplot as plt"
   ]
  },
  {
   "cell_type": "markdown",
   "id": "59812274",
   "metadata": {},
   "source": [
    "### Problem statement: Prediction of Weight on the basis of Height"
   ]
  },
  {
   "cell_type": "code",
   "execution_count": 2,
   "id": "6db221b3",
   "metadata": {},
   "outputs": [],
   "source": [
    "ht = [[151],[174],[138],[186],[128],[136],[179],[163],[152],[131]]\n",
    "# input in ML must be in 2D\n",
    "wt = [[63],[81],[56],[91],[47],[57],[76],[72],[62],[48]]"
   ]
  },
  {
   "cell_type": "code",
   "execution_count": 3,
   "id": "02d2334a",
   "metadata": {},
   "outputs": [
    {
     "data": {
      "text/plain": [
       "<matplotlib.collections.PathCollection at 0x1ae6c6f56a0>"
      ]
     },
     "execution_count": 3,
     "metadata": {},
     "output_type": "execute_result"
    },
    {
     "data": {
      "image/png": "[encoded data removed]",
      "text/plain": [
       "<Figure size 432x288 with 1 Axes>"
      ]
     },
     "metadata": {
      "needs_background": "light"
     },
     "output_type": "display_data"
    }
   ],
   "source": [
    "plt.scatter(ht,wt,marker='*',color='g')"
   ]
  },
  {
   "cell_type": "markdown",
   "id": "12a455ce",
   "metadata": {},
   "source": [
    "#### import algorithm class"
   ]
  },
  {
   "cell_type": "code",
   "execution_count": 4,
   "id": "1c044d20",
   "metadata": {},
   "outputs": [],
   "source": [
    "from sklearn.linear_model import LinearRegression"
   ]
  },
  {
   "cell_type": "markdown",
   "id": "c6f1dcc5",
   "metadata": {},
   "source": [
    "#### Creation of an object for LR class"
   ]
  },
  {
   "cell_type": "code",
   "execution_count": 5,
   "id": "5f02d0b7",
   "metadata": {},
   "outputs": [
    {
     "data": {
      "text/plain": [
       "LinearRegression()"
      ]
     },
     "execution_count": 5,
     "metadata": {},
     "output_type": "execute_result"
    }
   ],
   "source": [
    "lr = LinearRegression()\n",
    "lr"
   ]
  },
  {
   "cell_type": "markdown",
   "id": "47e35024",
   "metadata": {},
   "source": [
    "#### Model Training"
   ]
  },
  {
   "cell_type": "code",
   "execution_count": 6,
   "id": "9715487b",
   "metadata": {},
   "outputs": [
    {
     "data": {
      "text/plain": [
       "LinearRegression()"
      ]
     },
     "execution_count": 6,
     "metadata": {},
     "output_type": "execute_result"
    }
   ],
   "source": [
    "lr.fit(ht,wt)"
   ]
  },
  {
   "cell_type": "markdown",
   "id": "a125cbee",
   "metadata": {},
   "source": [
    "#### Model Testing"
   ]
  },
  {
   "cell_type": "code",
   "execution_count": 7,
   "id": "fd5f2539",
   "metadata": {},
   "outputs": [
    {
     "data": {
      "text/plain": [
       "array([[76.90329973]])"
      ]
     },
     "execution_count": 7,
     "metadata": {},
     "output_type": "execute_result"
    }
   ],
   "source": [
    "lr.predict([[171]])\n",
    "#ht = int(input(''))"
   ]
  },
  {
   "cell_type": "code",
   "execution_count": 8,
   "id": "f486842c",
   "metadata": {},
   "outputs": [
    {
     "data": {
      "text/plain": [
       "-19.10000000000001"
      ]
     },
     "execution_count": 8,
     "metadata": {},
     "output_type": "execute_result"
    }
   ],
   "source": [
    "Pred = 76.90\n",
    "actual = 57.80\n",
    "error = actual - Pred\n",
    "error"
   ]
  },
  {
   "cell_type": "code",
   "execution_count": 9,
   "id": "20b48403",
   "metadata": {},
   "outputs": [
    {
     "name": "stdout",
     "output_type": "stream",
     "text": [
      "Enter your height:171\n",
      "Your height is: 171 and predicted weight is: [[76.90329973]] kg\n"
     ]
    },
    {
     "name": "stderr",
     "output_type": "stream",
     "text": [
      "C:\\Users\\chava\\anaconda3\\lib\\site-packages\\sklearn\\base.py:566: FutureWarning: Arrays of bytes/strings is being converted to decimal numbers if dtype='numeric'. This behavior is deprecated in 0.24 and will be removed in 1.1 (renaming of 0.26). Please convert your data to numeric values explicitly instead.\n",
      "  X = check_array(X, **check_params)\n"
     ]
    }
   ],
   "source": [
    "h = input('Enter your height:')\n",
    "print('Your height is:',h,'and predicted weight is:',lr.predict([[h]]),'kg')"
   ]
  },
  {
   "cell_type": "code",
   "execution_count": 10,
   "id": "9a11f531",
   "metadata": {},
   "outputs": [
    {
     "name": "stdout",
     "output_type": "stream",
     "text": [
      "Enter your height:190,120,150\n"
     ]
    }
   ],
   "source": [
    "h = eval((input('Enter your height:')))\n",
    "#print('Your height is:',h,'and predicted weight is:',lr.predict([[h]]),'kg')"
   ]
  },
  {
   "cell_type": "code",
   "execution_count": 11,
   "id": "ccbd4e45",
   "metadata": {},
   "outputs": [
    {
     "data": {
      "text/plain": [
       "[190, 120, 150]"
      ]
     },
     "execution_count": 11,
     "metadata": {},
     "output_type": "execute_result"
    }
   ],
   "source": [
    "list(h)"
   ]
  },
  {
   "cell_type": "code",
   "execution_count": 12,
   "id": "64bfe6f6",
   "metadata": {},
   "outputs": [
    {
     "name": "stdout",
     "output_type": "stream",
     "text": [
      "Enter your height:155\n",
      "Your height is: 155 and predicted weight is: [[66.10953254]] kg\n"
     ]
    }
   ],
   "source": [
    "h = eval((input('Enter your height:')))\n",
    "print('Your height is:',h,'and predicted weight is:',lr.predict([[h]]),'kg')"
   ]
  },
  {
   "cell_type": "code",
   "execution_count": 13,
   "id": "7cfc3df9",
   "metadata": {},
   "outputs": [
    {
     "data": {
      "text/plain": [
       "array([[62.73648029],\n",
       "       [89.72089826],\n",
       "       [42.49816682],\n",
       "       [76.22868928],\n",
       "       [52.61732356]])"
      ]
     },
     "execution_count": 13,
     "metadata": {},
     "output_type": "execute_result"
    }
   ],
   "source": [
    "test = [[150],[190], [120], [170],[135]]\n",
    "y_pred = lr.predict(test)\n",
    "y_pred"
   ]
  },
  {
   "cell_type": "code",
   "execution_count": 14,
   "id": "6c75af2b",
   "metadata": {},
   "outputs": [
    {
     "data": {
      "text/plain": [
       "[<matplotlib.lines.Line2D at 0x1ae6eb3dbe0>]"
      ]
     },
     "execution_count": 14,
     "metadata": {},
     "output_type": "execute_result"
    },
    {
     "data": {
      "image/png": "[encoded data removed]",
      "text/plain": [
       "<Figure size 432x288 with 1 Axes>"
      ]
     },
     "metadata": {
      "needs_background": "light"
     },
     "output_type": "display_data"
    }
   ],
   "source": [
    "plt.scatter(ht,wt)\n",
    "plt.plot(test,y_pred,color='r')"
   ]
  },
  {
   "cell_type": "markdown",
   "id": "cbdf92cb",
   "metadata": {},
   "source": [
    "#### line equation: y = mx + c "
   ]
  },
  {
   "cell_type": "code",
   "execution_count": 15,
   "id": "35f9bb55",
   "metadata": {},
   "outputs": [
    {
     "data": {
      "text/plain": [
       "array([[0.67461045]])"
      ]
     },
     "execution_count": 15,
     "metadata": {},
     "output_type": "execute_result"
    }
   ],
   "source": [
    "m = lr.coef_\n",
    "m"
   ]
  },
  {
   "cell_type": "code",
   "execution_count": 16,
   "id": "62efd3e1",
   "metadata": {},
   "outputs": [
    {
     "data": {
      "text/plain": [
       "array([-38.45508708])"
      ]
     },
     "execution_count": 16,
     "metadata": {},
     "output_type": "execute_result"
    }
   ],
   "source": [
    "c = lr.intercept_\n",
    "c"
   ]
  },
  {
   "cell_type": "code",
   "execution_count": 17,
   "id": "f825fb1d",
   "metadata": {},
   "outputs": [
    {
     "data": {
      "text/plain": [
       "array([[76.90329973]])"
      ]
     },
     "execution_count": 17,
     "metadata": {},
     "output_type": "execute_result"
    }
   ],
   "source": [
    "m*171 + c"
   ]
  },
  {
   "cell_type": "code",
   "execution_count": 18,
   "id": "ea4465ee",
   "metadata": {},
   "outputs": [
    {
     "data": {
      "text/plain": [
       "array([[66.78414299]])"
      ]
     },
     "execution_count": 18,
     "metadata": {},
     "output_type": "execute_result"
    }
   ],
   "source": [
    "m*156 + c"
   ]
  },
  {
   "cell_type": "code",
   "execution_count": 19,
   "id": "e032b049",
   "metadata": {},
   "outputs": [
    {
     "data": {
      "text/plain": [
       "array([[87.02245646]])"
      ]
     },
     "execution_count": 19,
     "metadata": {},
     "output_type": "execute_result"
    }
   ],
   "source": [
    "m*186 + c"
   ]
  },
  {
   "cell_type": "code",
   "execution_count": 20,
   "id": "06046657",
   "metadata": {},
   "outputs": [
    {
     "data": {
      "text/plain": [
       "4"
      ]
     },
     "execution_count": 20,
     "metadata": {},
     "output_type": "execute_result"
    }
   ],
   "source": [
    "# actual value 91\n",
    "91 - 87"
   ]
  },
  {
   "cell_type": "code",
   "execution_count": 21,
   "id": "4364ae62",
   "metadata": {},
   "outputs": [
    {
     "data": {
      "text/html": [
       "<div>\n",
       "<style scoped>\n",
       "    .dataframe tbody tr th:only-of-type {\n",
       "        vertical-align: middle;\n",
       "    }\n",
       "\n",
       "    .dataframe tbody tr th {\n",
       "        vertical-align: top;\n",
       "    }\n",
       "\n",
       "    .dataframe thead th {\n",
       "        text-align: right;\n",
       "    }\n",
       "</style>\n",
       "<table border=\"1\" class=\"dataframe\">\n",
       "  <thead>\n",
       "    <tr style=\"text-align: right;\">\n",
       "      <th></th>\n",
       "      <th>input</th>\n",
       "      <th>Actual</th>\n",
       "      <th>Predicted</th>\n",
       "    </tr>\n",
       "  </thead>\n",
       "  <tbody>\n",
       "    <tr>\n",
       "      <th>0</th>\n",
       "      <td>120</td>\n",
       "      <td>56</td>\n",
       "      <td>57</td>\n",
       "    </tr>\n",
       "    <tr>\n",
       "      <th>1</th>\n",
       "      <td>150</td>\n",
       "      <td>67</td>\n",
       "      <td>72</td>\n",
       "    </tr>\n",
       "    <tr>\n",
       "      <th>2</th>\n",
       "      <td>180</td>\n",
       "      <td>80</td>\n",
       "      <td>80</td>\n",
       "    </tr>\n",
       "    <tr>\n",
       "      <th>3</th>\n",
       "      <td>200</td>\n",
       "      <td>95</td>\n",
       "      <td>99</td>\n",
       "    </tr>\n",
       "  </tbody>\n",
       "</table>\n",
       "</div>"
      ],
      "text/plain": [
       "   input  Actual  Predicted\n",
       "0    120      56         57\n",
       "1    150      67         72\n",
       "2    180      80         80\n",
       "3    200      95         99"
      ]
     },
     "execution_count": 21,
     "metadata": {},
     "output_type": "execute_result"
    }
   ],
   "source": [
    "final = pd.DataFrame({'input':[120,150,180,200],'Actual':[56,67,80,95],'Predicted':[57,72,80,99]})\n",
    "final"
   ]
  },
  {
   "cell_type": "code",
   "execution_count": 22,
   "id": "e59f04b1",
   "metadata": {},
   "outputs": [],
   "source": [
    "final['error'] = final.Actual - final.Predicted"
   ]
  },
  {
   "cell_type": "code",
   "execution_count": 23,
   "id": "c227abac",
   "metadata": {},
   "outputs": [
    {
     "data": {
      "text/html": [
       "<div>\n",
       "<style scoped>\n",
       "    .dataframe tbody tr th:only-of-type {\n",
       "        vertical-align: middle;\n",
       "    }\n",
       "\n",
       "    .dataframe tbody tr th {\n",
       "        vertical-align: top;\n",
       "    }\n",
       "\n",
       "    .dataframe thead th {\n",
       "        text-align: right;\n",
       "    }\n",
       "</style>\n",
       "<table border=\"1\" class=\"dataframe\">\n",
       "  <thead>\n",
       "    <tr style=\"text-align: right;\">\n",
       "      <th></th>\n",
       "      <th>input</th>\n",
       "      <th>Actual</th>\n",
       "      <th>Predicted</th>\n",
       "      <th>error</th>\n",
       "    </tr>\n",
       "  </thead>\n",
       "  <tbody>\n",
       "    <tr>\n",
       "      <th>0</th>\n",
       "      <td>120</td>\n",
       "      <td>56</td>\n",
       "      <td>57</td>\n",
       "      <td>-1</td>\n",
       "    </tr>\n",
       "    <tr>\n",
       "      <th>1</th>\n",
       "      <td>150</td>\n",
       "      <td>67</td>\n",
       "      <td>72</td>\n",
       "      <td>-5</td>\n",
       "    </tr>\n",
       "    <tr>\n",
       "      <th>2</th>\n",
       "      <td>180</td>\n",
       "      <td>80</td>\n",
       "      <td>80</td>\n",
       "      <td>0</td>\n",
       "    </tr>\n",
       "    <tr>\n",
       "      <th>3</th>\n",
       "      <td>200</td>\n",
       "      <td>95</td>\n",
       "      <td>99</td>\n",
       "      <td>-4</td>\n",
       "    </tr>\n",
       "  </tbody>\n",
       "</table>\n",
       "</div>"
      ],
      "text/plain": [
       "   input  Actual  Predicted  error\n",
       "0    120      56         57     -1\n",
       "1    150      67         72     -5\n",
       "2    180      80         80      0\n",
       "3    200      95         99     -4"
      ]
     },
     "execution_count": 23,
     "metadata": {},
     "output_type": "execute_result"
    }
   ],
   "source": [
    "final"
   ]
  },
  {
   "cell_type": "code",
   "execution_count": 24,
   "id": "3e3c6ccb",
   "metadata": {},
   "outputs": [],
   "source": [
    "func = lambda x: (x - min(final.Actual))/max(final.Actual)"
   ]
  },
  {
   "cell_type": "code",
   "execution_count": 25,
   "id": "4422517d",
   "metadata": {},
   "outputs": [
    {
     "data": {
      "text/plain": [
       "0    0.000000\n",
       "1    0.115789\n",
       "2    0.252632\n",
       "3    0.410526\n",
       "Name: Actual, dtype: float64"
      ]
     },
     "execution_count": 25,
     "metadata": {},
     "output_type": "execute_result"
    }
   ],
   "source": [
    "final.Actual.apply(func)"
   ]
  },
  {
   "cell_type": "markdown",
   "id": "661c9586",
   "metadata": {},
   "source": [
    "#### How to check accuracy of Input and Output data supplied to algorithm"
   ]
  },
  {
   "cell_type": "code",
   "execution_count": 26,
   "id": "2fed3784",
   "metadata": {},
   "outputs": [
    {
     "data": {
      "text/plain": [
       "95.47822477500306"
      ]
     },
     "execution_count": 26,
     "metadata": {},
     "output_type": "execute_result"
    }
   ],
   "source": [
    "# Example accuracy of ht and wt\n",
    "# use score method\n",
    "lr.score(ht,wt)*100"
   ]
  },
  {
   "cell_type": "code",
   "execution_count": 27,
   "id": "d3793cd9",
   "metadata": {},
   "outputs": [
    {
     "data": {
      "text/plain": [
       "65.3"
      ]
     },
     "execution_count": 27,
     "metadata": {},
     "output_type": "execute_result"
    }
   ],
   "source": [
    "np.mean(wt)"
   ]
  },
  {
   "cell_type": "code",
   "execution_count": 28,
   "id": "da0570ff",
   "metadata": {},
   "outputs": [],
   "source": [
    "# lets add some bad values\n",
    "ht = [[151],[174],[138],[186],[128],[136],[179],[163],[152],[131]]\n",
    "wt = [[63],[81],[56],[91],[47],[57],[76],[72],[92],[98]]"
   ]
  },
  {
   "cell_type": "code",
   "execution_count": 29,
   "id": "8d41c68c",
   "metadata": {},
   "outputs": [
    {
     "data": {
      "text/plain": [
       "<matplotlib.collections.PathCollection at 0x1ae6f360fd0>"
      ]
     },
     "execution_count": 29,
     "metadata": {},
     "output_type": "execute_result"
    },
    {
     "data": {
      "image/png": "[encoded data removed]",
      "text/plain": [
       "<Figure size 432x288 with 1 Axes>"
      ]
     },
     "metadata": {
      "needs_background": "light"
     },
     "output_type": "display_data"
    }
   ],
   "source": [
    "plt.scatter(ht,wt)"
   ]
  },
  {
   "cell_type": "code",
   "execution_count": 30,
   "id": "5429a9dc",
   "metadata": {},
   "outputs": [
    {
     "data": {
      "text/plain": [
       "LinearRegression()"
      ]
     },
     "execution_count": 30,
     "metadata": {},
     "output_type": "execute_result"
    }
   ],
   "source": [
    "model = LinearRegression()\n",
    "model.fit(ht,wt)"
   ]
  },
  {
   "cell_type": "code",
   "execution_count": 31,
   "id": "b0313484",
   "metadata": {},
   "outputs": [
    {
     "data": {
      "text/plain": [
       "19.949595500006424"
      ]
     },
     "execution_count": 31,
     "metadata": {},
     "output_type": "execute_result"
    }
   ],
   "source": [
    "model.score(ht,wt)*100"
   ]
  }
 ],
 "metadata": {
  "kernelspec": {
   "display_name": "Python 3 (ipykernel)",
   "language": "python",
   "name": "python3"
  },
  "language_info": {
   "codemirror_mode": {
    "name": "ipython",
    "version": 3
   },
   "file_extension": ".py",
   "mimetype": "text/x-python",
   "name": "python",
   "nbconvert_exporter": "python",
   "pygments_lexer": "ipython3",
   "version": "3.9.12"
  }
 },
 "nbformat": 4,
 "nbformat_minor": 5
}
